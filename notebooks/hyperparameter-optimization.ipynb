{
 "cells": [
  {
   "cell_type": "code",
   "execution_count": null,
   "metadata": {
    "collapsed": true
   },
   "outputs": [],
   "source": [
    "import torch\n",
    "import numpy as np\n",
    "from sklearn.ensemble import RandomForestClassifier\n",
    "import xgboost as xgb\n",
    "from sklearn.metrics import accuracy_score\n",
    "from sklearn.model_selection import GridSearchCV"
   ]
  },
  {
   "cell_type": "code",
   "execution_count": null,
   "metadata": {
    "collapsed": false
   },
   "outputs": [],
   "source": [
    "# Load Training Data\n",
    "X, y = torch.load('../data/X_ensemble_train.pt').numpy(), torch.load('../data/y_ensemble_train.pt').numpy()\n",
    "\n",
    "# Load Validation Data\n",
    "X_val, y_val = torch.load('../data/X_ensemble_val.pt'), torch.load('../data/y_val.pt')\n",
    "y_val = torch.cat(y_val, dim=0)\n",
    "X_val, y_val = X_val.numpy(), y_val.numpy()"
   ]
  },
  {
   "cell_type": "code",
   "execution_count": null,
   "metadata": {
    "collapsed": false
   },
   "outputs": [],
   "source": [
    "# Define the classifiers\n",
    "rf = RandomForestClassifier(random_state=42)\n",
    "xgb_classif = xgb.XGBClassifier(random_state=42)"
   ]
  },
  {
   "attachments": {},
   "cell_type": "markdown",
   "metadata": {},
   "source": [
    "### Performing a grid search"
   ]
  },
  {
   "cell_type": "code",
   "execution_count": null,
   "metadata": {
    "collapsed": false
   },
   "outputs": [],
   "source": [
    "# Define the parameter grids for each classifier\n",
    "rf_param_grid = {'n_estimators': [10, 50, 100],\n",
    "                 'max_depth': [None, 5, 10]}\n",
    "xgb_param_grid = {'learning_rate': [0.1, 0.01],\n",
    "                  'max_depth': [3, 5, 7],\n",
    "                  'n_estimators': [10, 50, 100]}\n",
    "\n",
    "# Use grid search cross-validation to find the best hyperparameters for each classifier\n",
    "rf_grid_search = GridSearchCV(rf, param_grid=rf_param_grid, cv=5)\n",
    "rf_grid_search.fit(X, y)\n",
    "\n",
    "xgb_grid_search = GridSearchCV(xgb_classif, param_grid=xgb_param_grid, cv=5)\n",
    "xgb_grid_search.fit(X, y)\n",
    "\n",
    "# Print the best hyperparameters for each classifier\n",
    "print(\"Random Forest Best Hyperparameters:\")\n",
    "print(rf_grid_search.best_params_)\n",
    "print(\"XGBoost Best Hyperparameters:\")\n",
    "print(xgb_grid_search.best_params_)\n",
    "\n",
    "# Evaluate the best classifiers on the test set\n",
    "rf_best = rf_grid_search.best_estimator_\n",
    "xgb_best = xgb_grid_search.best_estimator_\n",
    "\n",
    "y_pred_rf = rf_best.predict(X_val)\n",
    "y_pred_xgb = xgb_best.predict(X_val)\n",
    "\n",
    "print(\"Accuracy of best rf classifier:\")\n",
    "print(accuracy_score(y_val, y_pred_rf))\n",
    "print(\"Accuracy of best xgb classifier:\")\n",
    "print(accuracy_score(y_val, y_pred_xgb))"
   ]
  },
  {
   "attachments": {},
   "cell_type": "markdown",
   "metadata": {},
   "source": [
    "### Performing another grid search"
   ]
  },
  {
   "cell_type": "code",
   "execution_count": null,
   "metadata": {
    "collapsed": false
   },
   "outputs": [],
   "source": [
    "# Define the parameter grids for each classifier\n",
    "rf_param_grid = {'n_estimators': [75, 100, 125],\n",
    "                 'max_depth': [10, 15, 20]}\n",
    "\n",
    "xgb_param_grid = {'learning_rate': [0.1, 0.01],\n",
    "                  'max_depth': [3, 5, 7, 10],\n",
    "                  'n_estimators': [10, 50, 100]}\n",
    "\n",
    "# Use grid search cross-validation to find the best hyperparameters for each classifier\n",
    "rf_grid_search = GridSearchCV(rf, param_grid=rf_param_grid, cv=5, n_jobs=8)\n",
    "rf_grid_search.fit(X, y)\n",
    "\n",
    "xgb_grid_search = GridSearchCV(xgb, param_grid=xgb_param_grid, cv=5, n_jobs=8)\n",
    "xgb_grid_search.fit(X, y)\n",
    "\n",
    "# Print the best hyperparameters for each classifier\n",
    "print(\"Random Forest Best Hyperparameters:\")\n",
    "print(rf_grid_search.best_params_)\n",
    "print(\"XGBoost Best Hyperparameters:\")\n",
    "print(xgb_grid_search.best_params_)\n",
    "\n",
    "# Evaluate the best classifiers on the test set\n",
    "rf_best = rf_grid_search.best_estimator_\n",
    "xgb_best = xgb_grid_search.best_estimator_\n",
    "\n",
    "y_pred_rf = rf_best.predict(X_val)\n",
    "y_pred_xgb = xgb_best.predict(X_val)\n",
    "\n",
    "print(\"Accuracy of best rf classifier:\")\n",
    "print(accuracy_score(y_val, y_pred_rf))\n",
    "print(\"Accuracy of best xgb classifier:\")\n",
    "print(accuracy_score(y_val, y_pred_xgb))\n"
   ]
  },
  {
   "cell_type": "code",
   "execution_count": null,
   "metadata": {
    "collapsed": false
   },
   "outputs": [],
   "source": []
  }
 ],
 "metadata": {
  "kernelspec": {
   "display_name": "Python 3",
   "language": "python",
   "name": "python3"
  },
  "language_info": {
   "codemirror_mode": {
    "name": "ipython",
    "version": 3
   },
   "file_extension": ".py",
   "mimetype": "text/x-python",
   "name": "python",
   "nbconvert_exporter": "python",
   "pygments_lexer": "ipython3",
   "version": "3.9.16"
  }
 },
 "nbformat": 4,
 "nbformat_minor": 0
}
