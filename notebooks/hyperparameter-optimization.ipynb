{
 "cells": [
  {
   "cell_type": "code",
   "execution_count": 8,
   "metadata": {
    "collapsed": true
   },
   "outputs": [],
   "source": [
    "import torch\n",
    "import numpy as np\n",
    "from sklearn.ensemble import RandomForestClassifier\n",
    "import xgboost as xgb\n",
    "from sklearn.metrics import accuracy_score\n",
    "from sklearn.model_selection import GridSearchCV"
   ]
  },
  {
   "cell_type": "code",
   "execution_count": 3,
   "outputs": [],
   "source": [
    "X, y = torch.load('../data/X_ensemble_train.pt'), torch.load('../data/y_ensemble_train.pt')"
   ],
   "metadata": {
    "collapsed": false
   }
  },
  {
   "cell_type": "code",
   "execution_count": 4,
   "outputs": [],
   "source": [
    "X, y = X.numpy(), y.numpy()"
   ],
   "metadata": {
    "collapsed": false
   }
  },
  {
   "cell_type": "code",
   "execution_count": 5,
   "outputs": [],
   "source": [
    "# Define the parameter grids for each classifier\n",
    "rf_param_grid = {'n_estimators': [10, 50, 100],\n",
    "                 'max_depth': [None, 5, 10]}\n",
    "xgb_param_grid = {'learning_rate': [0.1, 0.01],\n",
    "                  'max_depth': [3, 5, 7],\n",
    "                  'n_estimators': [10, 50, 100]}"
   ],
   "metadata": {
    "collapsed": false
   }
  },
  {
   "cell_type": "code",
   "execution_count": 6,
   "outputs": [],
   "source": [
    "# Define the classifiers\n",
    "rf = RandomForestClassifier(random_state=42)\n",
    "xgb_classif = xgb.XGBClassifier(random_state=42)"
   ],
   "metadata": {
    "collapsed": false
   }
  },
  {
   "cell_type": "code",
   "execution_count": 9,
   "outputs": [
    {
     "ename": "TypeError",
     "evalue": "estimator should be an estimator implementing 'fit' method, <module 'xgboost' from '/home/lucasc/.local/share/virtualenvs/cil-project-E9C2ZiPG/lib/python3.9/site-packages/xgboost/__init__.py'> was passed",
     "output_type": "error",
     "traceback": [
      "\u001B[0;31m---------------------------------------------------------------------------\u001B[0m",
      "\u001B[0;31mTypeError\u001B[0m                                 Traceback (most recent call last)",
      "Cell \u001B[0;32mIn[9], line 6\u001B[0m\n\u001B[1;32m      3\u001B[0m rf_grid_search\u001B[38;5;241m.\u001B[39mfit(X, y)\n\u001B[1;32m      5\u001B[0m xgb_grid_search \u001B[38;5;241m=\u001B[39m GridSearchCV(xgb, param_grid\u001B[38;5;241m=\u001B[39mxgb_param_grid, cv\u001B[38;5;241m=\u001B[39m\u001B[38;5;241m5\u001B[39m)\n\u001B[0;32m----> 6\u001B[0m \u001B[43mxgb_grid_search\u001B[49m\u001B[38;5;241;43m.\u001B[39;49m\u001B[43mfit\u001B[49m\u001B[43m(\u001B[49m\u001B[43mX\u001B[49m\u001B[43m,\u001B[49m\u001B[43m \u001B[49m\u001B[43my\u001B[49m\u001B[43m)\u001B[49m\n\u001B[1;32m      8\u001B[0m \u001B[38;5;66;03m# Print the best hyperparameters for each classifier\u001B[39;00m\n\u001B[1;32m      9\u001B[0m \u001B[38;5;28mprint\u001B[39m(\u001B[38;5;124m\"\u001B[39m\u001B[38;5;124mRandom Forest Best Hyperparameters:\u001B[39m\u001B[38;5;124m\"\u001B[39m)\n",
      "File \u001B[0;32m~/.local/share/virtualenvs/cil-project-E9C2ZiPG/lib/python3.9/site-packages/sklearn/model_selection/_search.py:793\u001B[0m, in \u001B[0;36mBaseSearchCV.fit\u001B[0;34m(self, X, y, groups, **fit_params)\u001B[0m\n\u001B[1;32m    791\u001B[0m     scorers \u001B[38;5;241m=\u001B[39m \u001B[38;5;28mself\u001B[39m\u001B[38;5;241m.\u001B[39mscoring\n\u001B[1;32m    792\u001B[0m \u001B[38;5;28;01melif\u001B[39;00m \u001B[38;5;28mself\u001B[39m\u001B[38;5;241m.\u001B[39mscoring \u001B[38;5;129;01mis\u001B[39;00m \u001B[38;5;28;01mNone\u001B[39;00m \u001B[38;5;129;01mor\u001B[39;00m \u001B[38;5;28misinstance\u001B[39m(\u001B[38;5;28mself\u001B[39m\u001B[38;5;241m.\u001B[39mscoring, \u001B[38;5;28mstr\u001B[39m):\n\u001B[0;32m--> 793\u001B[0m     scorers \u001B[38;5;241m=\u001B[39m \u001B[43mcheck_scoring\u001B[49m\u001B[43m(\u001B[49m\u001B[38;5;28;43mself\u001B[39;49m\u001B[38;5;241;43m.\u001B[39;49m\u001B[43mestimator\u001B[49m\u001B[43m,\u001B[49m\u001B[43m \u001B[49m\u001B[38;5;28;43mself\u001B[39;49m\u001B[38;5;241;43m.\u001B[39;49m\u001B[43mscoring\u001B[49m\u001B[43m)\u001B[49m\n\u001B[1;32m    794\u001B[0m \u001B[38;5;28;01melse\u001B[39;00m:\n\u001B[1;32m    795\u001B[0m     scorers \u001B[38;5;241m=\u001B[39m _check_multimetric_scoring(\u001B[38;5;28mself\u001B[39m\u001B[38;5;241m.\u001B[39mestimator, \u001B[38;5;28mself\u001B[39m\u001B[38;5;241m.\u001B[39mscoring)\n",
      "File \u001B[0;32m~/.local/share/virtualenvs/cil-project-E9C2ZiPG/lib/python3.9/site-packages/sklearn/metrics/_scorer.py:448\u001B[0m, in \u001B[0;36mcheck_scoring\u001B[0;34m(estimator, scoring, allow_none)\u001B[0m\n\u001B[1;32m    422\u001B[0m \u001B[38;5;250m\u001B[39m\u001B[38;5;124;03m\"\"\"Determine scorer from user options.\u001B[39;00m\n\u001B[1;32m    423\u001B[0m \n\u001B[1;32m    424\u001B[0m \u001B[38;5;124;03mA TypeError will be thrown if the estimator cannot be scored.\u001B[39;00m\n\u001B[0;32m   (...)\u001B[0m\n\u001B[1;32m    445\u001B[0m \u001B[38;5;124;03m    ``scorer(estimator, X, y)``.\u001B[39;00m\n\u001B[1;32m    446\u001B[0m \u001B[38;5;124;03m\"\"\"\u001B[39;00m\n\u001B[1;32m    447\u001B[0m \u001B[38;5;28;01mif\u001B[39;00m \u001B[38;5;129;01mnot\u001B[39;00m \u001B[38;5;28mhasattr\u001B[39m(estimator, \u001B[38;5;124m\"\u001B[39m\u001B[38;5;124mfit\u001B[39m\u001B[38;5;124m\"\u001B[39m):\n\u001B[0;32m--> 448\u001B[0m     \u001B[38;5;28;01mraise\u001B[39;00m \u001B[38;5;167;01mTypeError\u001B[39;00m(\n\u001B[1;32m    449\u001B[0m         \u001B[38;5;124m\"\u001B[39m\u001B[38;5;124mestimator should be an estimator implementing \u001B[39m\u001B[38;5;124m'\u001B[39m\u001B[38;5;124mfit\u001B[39m\u001B[38;5;124m'\u001B[39m\u001B[38;5;124m method, \u001B[39m\u001B[38;5;132;01m%r\u001B[39;00m\u001B[38;5;124m was passed\u001B[39m\u001B[38;5;124m\"\u001B[39m\n\u001B[1;32m    450\u001B[0m         \u001B[38;5;241m%\u001B[39m estimator\n\u001B[1;32m    451\u001B[0m     )\n\u001B[1;32m    452\u001B[0m \u001B[38;5;28;01mif\u001B[39;00m \u001B[38;5;28misinstance\u001B[39m(scoring, \u001B[38;5;28mstr\u001B[39m):\n\u001B[1;32m    453\u001B[0m     \u001B[38;5;28;01mreturn\u001B[39;00m get_scorer(scoring)\n",
      "\u001B[0;31mTypeError\u001B[0m: estimator should be an estimator implementing 'fit' method, <module 'xgboost' from '/home/lucasc/.local/share/virtualenvs/cil-project-E9C2ZiPG/lib/python3.9/site-packages/xgboost/__init__.py'> was passed"
     ]
    }
   ],
   "source": [
    "# Use grid search cross-validation to find the best hyperparameters for each classifier\n",
    "rf_grid_search = GridSearchCV(rf, param_grid=rf_param_grid, cv=5)\n",
    "rf_grid_search.fit(X, y)\n",
    "\n",
    "xgb_grid_search = GridSearchCV(xgb_classif, param_grid=xgb_param_grid, cv=5)\n",
    "xgb_grid_search.fit(X, y)\n",
    "\n",
    "# Print the best hyperparameters for each classifier\n",
    "print(\"Random Forest Best Hyperparameters:\")\n",
    "print(rf_grid_search.best_params_)\n",
    "print(\"XGBoost Best Hyperparameters:\")\n",
    "print(xgb_grid_search.best_params_)"
   ],
   "metadata": {
    "collapsed": false
   }
  },
  {
   "cell_type": "code",
   "execution_count": 10,
   "outputs": [
    {
     "name": "stdout",
     "output_type": "stream",
     "text": [
      "Random Forest Best Hyperparameters:\n",
      "{'max_depth': 10, 'n_estimators': 100}\n"
     ]
    }
   ],
   "source": [
    "# Print the best hyperparameters for each classifier\n",
    "print(\"Random Forest Best Hyperparameters:\")\n",
    "print(rf_grid_search.best_params_)"
   ],
   "metadata": {
    "collapsed": false
   }
  },
  {
   "cell_type": "code",
   "execution_count": 11,
   "outputs": [],
   "source": [
    "# Evaluate the best classifiers on the test set\n",
    "rf_best = rf_grid_search.best_estimator_\n"
   ],
   "metadata": {
    "collapsed": false
   }
  },
  {
   "cell_type": "code",
   "execution_count": 12,
   "outputs": [],
   "source": [
    "X_val, y_val = torch.load('../data/X_ensemble_val.pt'), torch.load('../data/y_val.pt')"
   ],
   "metadata": {
    "collapsed": false
   }
  },
  {
   "cell_type": "code",
   "execution_count": 15,
   "outputs": [],
   "source": [
    "y_val = torch.cat(y_val, dim=0)\n",
    "X_val, y_val = X_val.numpy(), y_val.numpy()"
   ],
   "metadata": {
    "collapsed": false
   }
  },
  {
   "cell_type": "code",
   "execution_count": 16,
   "outputs": [],
   "source": [
    "y_pred = rf_best.predict(X_val)"
   ],
   "metadata": {
    "collapsed": false
   }
  },
  {
   "cell_type": "code",
   "execution_count": 17,
   "outputs": [
    {
     "data": {
      "text/plain": "0.9025228145590359"
     },
     "execution_count": 17,
     "metadata": {},
     "output_type": "execute_result"
    }
   ],
   "source": [
    "accuracy_score(y_val, y_pred)"
   ],
   "metadata": {
    "collapsed": false
   }
  },
  {
   "cell_type": "code",
   "execution_count": 20,
   "outputs": [
    {
     "data": {
      "text/plain": "GridSearchCV(cv=5, estimator=RandomForestClassifier(random_state=42), n_jobs=8,\n             param_grid={'max_depth': [10, 15, 20],\n                         'n_estimators': [75, 100, 125]})"
     },
     "execution_count": 20,
     "metadata": {},
     "output_type": "execute_result"
    }
   ],
   "source": [
    "# Define the parameter grids for each classifier\n",
    "rf_param_grid = {'n_estimators': [75, 100, 125],\n",
    "                 'max_depth': [10, 15, 20]}\n",
    "\n",
    "# Use grid search cross-validation to find the best hyperparameters for each classifier\n",
    "rf_grid_search2 = GridSearchCV(rf, param_grid=rf_param_grid, cv=5, n_jobs=8)\n",
    "rf_grid_search2.fit(X, y)"
   ],
   "metadata": {
    "collapsed": false
   }
  },
  {
   "cell_type": "code",
   "execution_count": 25,
   "outputs": [],
   "source": [
    "rf_best = rf_grid_search2.best_estimator_\n",
    "y_pred = rf_best.predict(X_val)"
   ],
   "metadata": {
    "collapsed": false
   }
  },
  {
   "cell_type": "code",
   "execution_count": 33,
   "outputs": [
    {
     "data": {
      "text/plain": "{'max_depth': 10, 'n_estimators': 125}"
     },
     "execution_count": 33,
     "metadata": {},
     "output_type": "execute_result"
    }
   ],
   "source": [
    "rf_grid_search2.best_params_"
   ],
   "metadata": {
    "collapsed": false
   }
  },
  {
   "cell_type": "code",
   "execution_count": 26,
   "outputs": [
    {
     "data": {
      "text/plain": "0.9025007927839047"
     },
     "execution_count": 26,
     "metadata": {},
     "output_type": "execute_result"
    }
   ],
   "source": [
    "accuracy_score(y_val, y_pred)"
   ],
   "metadata": {
    "collapsed": false
   }
  },
  {
   "cell_type": "code",
   "execution_count": 23,
   "outputs": [
    {
     "data": {
      "text/plain": "GridSearchCV(cv=5,\n             estimator=XGBClassifier(base_score=None, booster=None,\n                                     callbacks=None, colsample_bylevel=None,\n                                     colsample_bynode=None,\n                                     colsample_bytree=None,\n                                     early_stopping_rounds=None,\n                                     enable_categorical=False, eval_metric=None,\n                                     feature_types=None, gamma=None,\n                                     gpu_id=None, grow_policy=None,\n                                     importance_type=None,\n                                     interaction_constraints=None,\n                                     learning_rate=None, max_bin=None,\n                                     max_cat_threshold=None,\n                                     max_cat_to_onehot=None,\n                                     max_delta_step=None, max_depth=None,\n                                     max_leaves=None, min_child_weight=None,\n                                     missing=nan, monotone_constraints=None,\n                                     n_estimators=100, n_jobs=None,\n                                     num_parallel_tree=None, predictor=None,\n                                     random_state=42, ...),\n             param_grid={'learning_rate': [0.1, 0.01],\n                         'max_depth': [3, 5, 7, 10],\n                         'n_estimators': [10, 50, 100]})"
     },
     "execution_count": 23,
     "metadata": {},
     "output_type": "execute_result"
    }
   ],
   "source": [
    "from xgboost import XGBClassifier\n",
    "\n",
    "xgb_param_grid = {'learning_rate': [0.1, 0.01],\n",
    "                  'max_depth': [3, 5, 7, 10],\n",
    "                  'n_estimators': [10, 50, 100]}\n",
    "\n",
    "xgb = XGBClassifier(random_state=42)\n",
    "xgb_grid_search = GridSearchCV(xgb, param_grid=xgb_param_grid, cv=5, n_jobs=8)\n",
    "xgb_grid_search.fit(X, y)"
   ],
   "metadata": {
    "collapsed": false
   }
  },
  {
   "cell_type": "code",
   "execution_count": 27,
   "outputs": [],
   "source": [
    "xgb_best = xgb_grid_search.best_estimator_"
   ],
   "metadata": {
    "collapsed": false
   }
  },
  {
   "cell_type": "code",
   "execution_count": 28,
   "outputs": [],
   "source": [
    "y_pred = xgb_best.predict(X_val)"
   ],
   "metadata": {
    "collapsed": false
   }
  },
  {
   "cell_type": "code",
   "execution_count": 29,
   "outputs": [
    {
     "data": {
      "text/plain": "0.9026153060145872"
     },
     "execution_count": 29,
     "metadata": {},
     "output_type": "execute_result"
    }
   ],
   "source": [
    "accuracy_score(y_val, y_pred)"
   ],
   "metadata": {
    "collapsed": false
   }
  },
  {
   "cell_type": "code",
   "execution_count": 32,
   "outputs": [
    {
     "data": {
      "text/plain": "{'learning_rate': 0.1, 'max_depth': 7, 'n_estimators': 50}"
     },
     "execution_count": 32,
     "metadata": {},
     "output_type": "execute_result"
    }
   ],
   "source": [
    "xgb_grid_search.best_params_"
   ],
   "metadata": {
    "collapsed": false
   }
  },
  {
   "cell_type": "code",
   "execution_count": 34,
   "outputs": [],
   "source": [
    "xgb_param_grid = {'learning_rate': [0.1, 0.05],\n",
    "                  'max_depth': [6, 7, 8],\n",
    "                  'n_estimators': [30, 50, 70]}\n",
    "\n",
    "xgb = XGBClassifier(random_state=42)\n",
    "xgb_grid_search = GridSearchCV(xgb, param_grid=xgb_param_grid, cv=5, n_jobs=8)"
   ],
   "metadata": {
    "collapsed": false
   }
  },
  {
   "cell_type": "code",
   "execution_count": 35,
   "outputs": [
    {
     "data": {
      "text/plain": "GridSearchCV(cv=5,\n             estimator=XGBClassifier(base_score=None, booster=None,\n                                     callbacks=None, colsample_bylevel=None,\n                                     colsample_bynode=None,\n                                     colsample_bytree=None,\n                                     early_stopping_rounds=None,\n                                     enable_categorical=False, eval_metric=None,\n                                     feature_types=None, gamma=None,\n                                     gpu_id=None, grow_policy=None,\n                                     importance_type=None,\n                                     interaction_constraints=None,\n                                     learning_rate=None,..._bin=None,\n                                     max_cat_threshold=None,\n                                     max_cat_to_onehot=None,\n                                     max_delta_step=None, max_depth=None,\n                                     max_leaves=None, min_child_weight=None,\n                                     missing=nan, monotone_constraints=None,\n                                     n_estimators=100, n_jobs=None,\n                                     num_parallel_tree=None, predictor=None,\n                                     random_state=42, ...),\n             n_jobs=8,\n             param_grid={'learning_rate': [0.1, 0.05], 'max_depth': [6, 7, 8],\n                         'n_estimators': [30, 50, 70]})"
     },
     "execution_count": 35,
     "metadata": {},
     "output_type": "execute_result"
    }
   ],
   "source": [
    "xgb_grid_search.fit(X, y)"
   ],
   "metadata": {
    "collapsed": false
   }
  },
  {
   "cell_type": "code",
   "execution_count": 36,
   "outputs": [],
   "source": [
    "xgb_best = xgb_grid_search.best_estimator_"
   ],
   "metadata": {
    "collapsed": false
   }
  },
  {
   "cell_type": "code",
   "execution_count": 37,
   "outputs": [],
   "source": [
    "y_pred = xgb_best.predict(X_val)"
   ],
   "metadata": {
    "collapsed": false
   }
  },
  {
   "cell_type": "code",
   "execution_count": 38,
   "outputs": [
    {
     "data": {
      "text/plain": "0.9026153060145872"
     },
     "execution_count": 38,
     "metadata": {},
     "output_type": "execute_result"
    }
   ],
   "source": [
    "accuracy_score(y_val, y_pred)"
   ],
   "metadata": {
    "collapsed": false
   }
  },
  {
   "cell_type": "code",
   "execution_count": 39,
   "outputs": [
    {
     "data": {
      "text/plain": "{'learning_rate': 0.1, 'max_depth': 7, 'n_estimators': 50}"
     },
     "execution_count": 39,
     "metadata": {},
     "output_type": "execute_result"
    }
   ],
   "source": [
    "xgb_grid_search.best_params_"
   ],
   "metadata": {
    "collapsed": false
   }
  },
  {
   "cell_type": "code",
   "execution_count": null,
   "outputs": [],
   "source": [],
   "metadata": {
    "collapsed": false
   }
  }
 ],
 "metadata": {
  "kernelspec": {
   "display_name": "Python 3",
   "language": "python",
   "name": "python3"
  },
  "language_info": {
   "codemirror_mode": {
    "name": "ipython",
    "version": 2
   },
   "file_extension": ".py",
   "mimetype": "text/x-python",
   "name": "python",
   "nbconvert_exporter": "python",
   "pygments_lexer": "ipython2",
   "version": "2.7.6"
  }
 },
 "nbformat": 4,
 "nbformat_minor": 0
}
